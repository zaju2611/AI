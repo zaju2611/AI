{
  "nbformat": 4,
  "nbformat_minor": 0,
  "metadata": {
    "colab": {
      "name": "Hopfield.ipynb",
      "provenance": [],
      "collapsed_sections": []
    },
    "kernelspec": {
      "name": "python3",
      "display_name": "Python 3"
    },
    "language_info": {
      "name": "python"
    }
  },
  "cells": [
    {
      "cell_type": "code",
      "execution_count": 141,
      "metadata": {
        "id": "pEy0OKbukgpn"
      },
      "outputs": [],
      "source": [
        "from numpy.core.fromnumeric import size\n",
        "import random\n",
        "import matplotlib\n",
        "import matplotlib.pyplot as plt\n",
        "import numpy as np\n",
        "import os\n",
        "import pandas as pd\n",
        "from google.colab import files\n",
        "\n",
        "\n",
        "class Hopfield(object):\n",
        "    def __init__(self, random_state=1):\n",
        "        self.random_state = random_state\n",
        "\n",
        "    def fit(self, X):\n",
        "        for k in range(len(X)):\n",
        "            X_size = X[k].size\n",
        "            # wyzerowanie macierzy wag\n",
        "            if (k == 0):\n",
        "                self.W_ = np.zeros([X_size, X_size], dtype=int)\n",
        "            # utworzenie jednowymiarowej tablicy z danych uczacych\n",
        "            X_vector = X[k].flatten()\n",
        "            # uczenie litery\n",
        "            for i in range(len(X_vector)):\n",
        "                for j in range(len(X_vector)):\n",
        "                    self.W_[i][j] += X_vector[i] * np.transpose(X_vector[j])\n",
        "                    # wyzerowanie przekatnych\n",
        "                    if (i == j):\n",
        "                        self.W_[i][j] = 0\n",
        "\n",
        "    def predict_syn(self, Xi, n_iter=10):\n",
        "        wPom = np.copy(self.W_)\n",
        "        stany=[]\n",
        "        for i in range(len(Xi) * n_iter):\n",
        "            Xi_vector = Xi.flatten()\n",
        "            stany.append(Xi.flatten())\n",
        "            sumaWazona = np.zeros([Xi.size], dtype=int)\n",
        "            fAktywacji = np.zeros([Xi.size], dtype=int)\n",
        "            for j in range(len(Xi_vector)):\n",
        "                for k in range(len(Xi_vector)):\n",
        "                    self.W_[j][k] = self.W_[j][k] * Xi_vector[k]\n",
        "                    sumaWazona[j] += self.W_[j][k]\n",
        "                if (sumaWazona[j] >= 0):\n",
        "                    fAktywacji[j] = 1\n",
        "                else:\n",
        "                    fAktywacji[j] = -1\n",
        "            self.W_ = np.copy(wPom)\n",
        "            Xi = fAktywacji\n",
        "            sumaWazona = {0}\n",
        "\n",
        "        for h in range(len(stany)):\n",
        "            if (h > 3 and (stany[h] == stany[h - 1]).any()):\n",
        "                self.result = stany[0:h]\n",
        "                break\n",
        "        return self.result\n",
        "\n",
        "    def predict_async1(self, Xi, order, n_iter=10):\n",
        "        wPom = np.copy(self.W_)\n",
        "        stany=[]\n",
        "        for i in range(len(Xi) * n_iter):\n",
        "            Xi_vector = Xi.flatten()\n",
        "            stany.append(Xi.flatten())\n",
        "            sumaWazona = np.zeros([Xi.size], dtype=int)\n",
        "            fAktywacji = np.copy(Xi_vector)\n",
        "            for j in range(len(Xi_vector)):\n",
        "                for k in range(len(Xi_vector)):\n",
        "                    self.W_[j][k] = self.W_[j][k] * Xi_vector[k]\n",
        "                    sumaWazona[j] += self.W_[j][k]\n",
        "                if (sumaWazona[j] >= 0):\n",
        "                    fAktywacji[j] = 1\n",
        "                else:\n",
        "                    fAktywacji[j] = -1\n",
        "            if (i % Xi.size == 0):\n",
        "                temp = 0\n",
        "\n",
        "            if (Xi_vector[order[temp] ] != fAktywacji[order[temp] ]):\n",
        "                Xi_vector[order[temp] ] = fAktywacji[order[temp] ]\n",
        "\n",
        "            self.W_ = np.copy(wPom)\n",
        "            Xi = np.copy(Xi_vector)\n",
        "            \n",
        "            sumaWazona = {0}\n",
        "            temp = temp + 1\n",
        "        for h in range(len(stany)):\n",
        "            if (h > 2 * Xi.size and (stany[h] == stany[h - X[0].size]).any()):\n",
        "                self.result = stany[0:h]\n",
        "                break\n",
        "            else:\n",
        "              self.result = stany[0:]\n",
        "\n",
        "        return self.result\n",
        "\n",
        "    def predict_async2(self, Xi, n_iter=10):\n",
        "        wPom = np.copy(self.W_)\n",
        "        stany=[]\n",
        "       \n",
        "        print(Xi.size)\n",
        "        for i in range(len(Xi)*n_iter):\n",
        "            if i % Xi.size == 0:\n",
        "                order1 = []\n",
        "                licznik = 0             \n",
        "                while licznik < Xi.size:                    \n",
        "                    self.rgen = random.randint(1,Xi.size)\n",
        "                    if order1.count(self.rgen) == 0:\n",
        "                        order1.append(self.rgen)\n",
        "                        licznik += 1\n",
        "                print(order1)\n",
        "            Xi_vector = Xi.flatten()\n",
        "            stany.append(Xi.flatten())\n",
        "            sumaWazona = np.zeros([Xi.size], dtype=int)\n",
        "            fAktywacji = np.copy(Xi_vector)\n",
        "            for j in range(len(Xi_vector)):\n",
        "                for k in range(len(Xi_vector)):\n",
        "                    self.W_[j][k] = self.W_[j][k] * Xi_vector[k]\n",
        "                    sumaWazona[j] += self.W_[j][k]\n",
        "                if (sumaWazona[j] >= 0):\n",
        "                    fAktywacji[j] = 1\n",
        "                else:\n",
        "                    fAktywacji[j] = -1\n",
        "            if (i % Xi.size == 0):\n",
        "                temp = 0\n",
        "\n",
        "            if (Xi_vector[order1[temp] - 1] != fAktywacji[order1[temp] - 1]):\n",
        "                Xi_vector[order1[temp] - 1] = fAktywacji[order1[temp] - 1]\n",
        "\n",
        "            self.W_ = np.copy(wPom)\n",
        "            Xi = np.copy(Xi_vector)\n",
        "\n",
        "            sumaWazona = {0}\n",
        "            temp = temp + 1\n",
        "       \n",
        "        for h in range(len(stany)):\n",
        "            if (h > 2 * Xi.size and (stany[h] == stany[h - X[0].size]).any()):\n",
        "                self.result = stany[0:h]\n",
        "                break\n",
        "            else:\n",
        "              self.result = stany[0:]\n",
        "        return self.result\n",
        "\n",
        "    def show_result(self, width, height, nrows):\n",
        "        O = np.array(self.result[1:])\n",
        "        fig, ax = plt.subplots(nrows=nrows, ncols=int(len(O) / nrows), figsize=(8, 8), sharex=True, sharey=True)\n",
        "        ax = ax.flatten()\n",
        "        for i in range(O.shape[0]):\n",
        "            img = O[i].reshape(height, width)\n",
        "            ax[i].imshow(img, cmap='Greys')\n",
        "    def show(self, data, width, height, nrows):\n",
        "        O = np.copy(data)\n",
        "        \n",
        "        \n",
        "        if(O.ndim>1):\n",
        "          fig, ax = plt.subplots(nrows=nrows, ncols=int(len(O) / nrows), figsize=(10, 10), sharex=True, sharey=True)\n",
        "          for i in range(O.shape[0]):\n",
        "             ax=ax.flatten()\n",
        "             img = O[i].reshape(height, width)\n",
        "             ax[i].imshow(img, cmap='Greys')\n",
        "        else:\n",
        "          fig, ax = plt.subplots(nrows=1, ncols=1, figsize=(10, 10), sharex=True, sharey=True)\n",
        "          img = O.reshape(height, width)\n",
        "          ax.imshow(img, cmap=\"Greys\")\n",
        "\n",
        "X = np.array([[[-1, 1, -1], [1, -1, 1], [1, -1, 1], [-1, 1, -1]],[[1, 1, 1], [-1, 1, -1], [-1, 1, -1], [-1, 1, -1]]])\n"
      ]
    },
    {
      "cell_type": "code",
      "source": [
        "hopfield = Hopfield()\n",
        "hopfield.show(X,3,4,1)\n"
      ],
      "metadata": {
        "colab": {
          "base_uri": "https://localhost:8080/",
          "height": 390
        },
        "id": "kC_nO-TJWte3",
        "outputId": "87a248a1-213f-4fa0-8282-34f6636edc68"
      },
      "execution_count": 142,
      "outputs": [
        {
          "output_type": "display_data",
          "data": {
            "text/plain": [
              "<Figure size 720x720 with 2 Axes>"
            ],
            "image/png": "[encoded data removed]"
          },
          "metadata": {
            "needs_background": "light"
          }
        }
      ]
    },
    {
      "cell_type": "code",
      "source": [
        "hopfield.fit(X)"
      ],
      "metadata": {
        "id": "YPQkTKe9zI_O"
      },
      "execution_count": 143,
      "outputs": []
    },
    {
      "cell_type": "code",
      "source": [
        "Xi = np.array([0,1,1,1,0,1,-1,-1,-1,0,1,0])\n",
        "states= hopfield.predict_syn(Xi)"
      ],
      "metadata": {
        "id": "S0iiBhQl-rxY"
      },
      "execution_count": 144,
      "outputs": []
    },
    {
      "cell_type": "code",
      "source": [
        "hopfield.show(np.array(states),3,4,1)"
      ],
      "metadata": {
        "colab": {
          "base_uri": "https://localhost:8080/",
          "height": 214
        },
        "id": "RNjo5ZFhcf36",
        "outputId": "8990364f-c207-4342-ca4f-93393b007bdc"
      },
      "execution_count": 145,
      "outputs": [
        {
          "output_type": "display_data",
          "data": {
            "text/plain": [
              "<Figure size 720x720 with 4 Axes>"
            ],
            "image/png": "[encoded data removed]"
          },
          "metadata": {
            "needs_background": "light"
          }
        }
      ]
    },
    {
      "cell_type": "code",
      "source": [
        "order=range(12)\n",
        "states=hopfield.predict_async1(Xi, order,13)\n",
        "\n"
      ],
      "metadata": {
        "id": "gezBXhhkRb3V"
      },
      "execution_count": 146,
      "outputs": []
    },
    {
      "cell_type": "code",
      "source": [
        "hopfield.show(np.array(states)[1:],3,4,4)"
      ],
      "metadata": {
        "colab": {
          "base_uri": "https://localhost:8080/",
          "height": 580
        },
        "id": "jwHKK8k2hlMY",
        "outputId": "09901439-9cd2-40a5-fb05-5484cb16fb75"
      },
      "execution_count": 147,
      "outputs": [
        {
          "output_type": "display_data",
          "data": {
            "text/plain": [
              "<Figure size 720x720 with 24 Axes>"
            ],
            "image/png": "[encoded data removed]"
          },
          "metadata": {
            "needs_background": "light"
          }
        }
      ]
    },
    {
      "cell_type": "code",
      "source": [
        "order1 = [6,1,11,12,2,9,3,5,7,10,4,8,8,11,2,9,7,5,1,4,6,12,3,10]\n",
        "order1=np.array(order1)\n",
        "order1-=1\n",
        "\n"
      ],
      "metadata": {
        "id": "E08RwHf-Pof6"
      },
      "execution_count": 148,
      "outputs": []
    },
    {
      "cell_type": "code",
      "source": [
        "states=hopfield.predict_async1(Xi,order1,13)"
      ],
      "metadata": {
        "id": "9TUgSihNjwST"
      },
      "execution_count": 149,
      "outputs": []
    },
    {
      "cell_type": "code",
      "source": [
        "hopfield.show(np.array(states)[1:],3,4,4)"
      ],
      "metadata": {
        "colab": {
          "base_uri": "https://localhost:8080/",
          "height": 580
        },
        "id": "RakBIpQ2j5dE",
        "outputId": "3176d83e-c465-42a2-8797-6e01209ed385"
      },
      "execution_count": 150,
      "outputs": [
        {
          "output_type": "display_data",
          "data": {
            "text/plain": [
              "<Figure size 720x720 with 24 Axes>"
            ],
            "image/png": "[encoded data removed]"
          },
          "metadata": {
            "needs_background": "light"
          }
        }
      ]
    },
    {
      "cell_type": "code",
      "source": [
        "uploaded = files.upload()\n",
        "\n",
        "import io\n",
        "df = pd.read_csv(io.BytesIO(uploaded['letters.data']),header=None)\n",
        "X1 = df.iloc[[1,8],:35].values"
      ],
      "metadata": {
        "colab": {
          "resources": {
            "http://localhost:8080/nbextensions/google.colab/files.js": {
              "data": "Ly8gQ29weXJpZ2h0IDIwMTcgR29vZ2xlIExMQwovLwovLyBMaWNlbnNlZCB1bmRlciB0aGUgQXBhY2hlIExpY2Vuc2UsIFZlcnNpb24gMi4wICh0aGUgIkxpY2Vuc2UiKTsKLy8geW91IG1heSBub3QgdXNlIHRoaXMgZmlsZSBleGNlcHQgaW4gY29tcGxpYW5jZSB3aXRoIHRoZSBMaWNlbnNlLgovLyBZb3UgbWF5IG9idGFpbiBhIGNvcHkgb2YgdGhlIExpY2Vuc2UgYXQKLy8KLy8gICAgICBodHRwOi8vd3d3LmFwYWNoZS5vcmcvbGljZW5zZXMvTElDRU5TRS0yLjAKLy8KLy8gVW5sZXNzIHJlcXVpcmVkIGJ5IGFwcGxpY2FibGUgbGF3IG9yIGFncmVlZCB0byBpbiB3cml0aW5nLCBzb2Z0d2FyZQovLyBkaXN0cmlidXRlZCB1bmRlciB0aGUgTGljZW5zZSBpcyBkaXN0cmlidXRlZCBvbiBhbiAiQVMgSVMiIEJBU0lTLAovLyBXSVRIT1VUIFdBUlJBTlRJRVMgT1IgQ09ORElUSU9OUyBPRiBBTlkgS0lORCwgZWl0aGVyIGV4cHJlc3Mgb3IgaW1wbGllZC4KLy8gU2VlIHRoZSBMaWNlbnNlIGZvciB0aGUgc3BlY2lmaWMgbGFuZ3VhZ2UgZ292ZXJuaW5nIHBlcm1pc3Npb25zIGFuZAovLyBsaW1pdGF0aW9ucyB1bmRlciB0aGUgTGljZW5zZS4KCi8qKgogKiBAZmlsZW92ZXJ2aWV3IEhlbHBlcnMgZm9yIGdvb2dsZS5jb2xhYiBQeXRob24gbW9kdWxlLgogKi8KKGZ1bmN0aW9uKHNjb3BlKSB7CmZ1bmN0aW9uIHNwYW4odGV4dCwgc3R5bGVBdHRyaWJ1dGVzID0ge30pIHsKICBjb25zdCBlbGVtZW50ID0gZG9jdW1lbnQuY3JlYXRlRWxlbWVudCgnc3BhbicpOwogIGVsZW1lbnQudGV4dENvbnRlbnQgPSB0ZXh0OwogIGZvciAoY29uc3Qga2V5IG9mIE9iamVjdC5rZXlzKHN0eWxlQXR0cmlidXRlcykpIHsKICAgIGVsZW1lbnQuc3R5bGVba2V5XSA9IHN0eWxlQXR0cmlidXRlc1trZXldOwogIH0KICByZXR1cm4gZWxlbWVudDsKfQoKLy8gTWF4IG51bWJlciBvZiBieXRlcyB3aGljaCB3aWxsIGJlIHVwbG9hZGVkIGF0IGEgdGltZS4KY29uc3QgTUFYX1BBWUxPQURfU0laRSA9IDEwMCAqIDEwMjQ7CgpmdW5jdGlvbiBfdXBsb2FkRmlsZXMoaW5wdXRJZCwgb3V0cHV0SWQpIHsKICBjb25zdCBzdGVwcyA9IHVwbG9hZEZpbGVzU3RlcChpbnB1dElkLCBvdXRwdXRJZCk7CiAgY29uc3Qgb3V0cHV0RWxlbWVudCA9IGRvY3VtZW50LmdldEVsZW1lbnRCeUlkKG91dHB1dElkKTsKICAvLyBDYWNoZSBzdGVwcyBvbiB0aGUgb3V0cHV0RWxlbWVudCB0byBtYWtlIGl0IGF2YWlsYWJsZSBmb3IgdGhlIG5leHQgY2FsbAogIC8vIHRvIHVwbG9hZEZpbGVzQ29udGludWUgZnJvbSBQeXRob24uCiAgb3V0cHV0RWxlbWVudC5zdGVwcyA9IHN0ZXBzOwoKICByZXR1cm4gX3VwbG9hZEZpbGVzQ29udGludWUob3V0cHV0SWQpOwp9CgovLyBUaGlzIGlzIHJvdWdobHkgYW4gYXN5bmMgZ2VuZXJhdG9yIChub3Qgc3VwcG9ydGVkIGluIHRoZSBicm93c2VyIHlldCksCi8vIHdoZXJlIHRoZXJlIGFyZSBtdWx0aXBsZSBhc3luY2hyb25vdXMgc3RlcHMgYW5kIHRoZSBQeXRob24gc2lkZSBpcyBnb2luZwovLyB0byBwb2xsIGZvciBjb21wbGV0aW9uIG9mIGVhY2ggc3RlcC4KLy8gVGhpcyB1c2VzIGEgUHJvbWlzZSB0byBibG9jayB0aGUgcHl0aG9uIHNpZGUgb24gY29tcGxldGlvbiBvZiBlYWNoIHN0ZXAsCi8vIHRoZW4gcGFzc2VzIHRoZSByZXN1bHQgb2YgdGhlIHByZXZpb3VzIHN0ZXAgYXMgdGhlIGlucHV0IHRvIHRoZSBuZXh0IHN0ZXAuCmZ1bmN0aW9uIF91cGxvYWRGaWxlc0NvbnRpbnVlKG91dHB1dElkKSB7CiAgY29uc3Qgb3V0cHV0RWxlbWVudCA9IGRvY3VtZW50LmdldEVsZW1lbnRCeUlkKG91dHB1dElkKTsKICBjb25zdCBzdGVwcyA9IG91dHB1dEVsZW1lbnQuc3RlcHM7CgogIGNvbnN0IG5leHQgPSBzdGVwcy5uZXh0KG91dHB1dEVsZW1lbnQubGFzdFByb21pc2VWYWx1ZSk7CiAgcmV0dXJuIFByb21pc2UucmVzb2x2ZShuZXh0LnZhbHVlLnByb21pc2UpLnRoZW4oKHZhbHVlKSA9PiB7CiAgICAvLyBDYWNoZSB0aGUgbGFzdCBwcm9taXNlIHZhbHVlIHRvIG1ha2UgaXQgYXZhaWxhYmxlIHRvIHRoZSBuZXh0CiAgICAvLyBzdGVwIG9mIHRoZSBnZW5lcmF0b3IuCiAgICBvdXRwdXRFbGVtZW50Lmxhc3RQcm9taXNlVmFsdWUgPSB2YWx1ZTsKICAgIHJldHVybiBuZXh0LnZhbHVlLnJlc3BvbnNlOwogIH0pOwp9CgovKioKICogR2VuZXJhdG9yIGZ1bmN0aW9uIHdoaWNoIGlzIGNhbGxlZCBiZXR3ZWVuIGVhY2ggYXN5bmMgc3RlcCBvZiB0aGUgdXBsb2FkCiAqIHByb2Nlc3MuCiAqIEBwYXJhbSB7c3RyaW5nfSBpbnB1dElkIEVsZW1lbnQgSUQgb2YgdGhlIGlucHV0IGZpbGUgcGlja2VyIGVsZW1lbnQuCiAqIEBwYXJhbSB7c3RyaW5nfSBvdXRwdXRJZCBFbGVtZW50IElEIG9mIHRoZSBvdXRwdXQgZGlzcGxheS4KICogQHJldHVybiB7IUl0ZXJhYmxlPCFPYmplY3Q+fSBJdGVyYWJsZSBvZiBuZXh0IHN0ZXBzLgogKi8KZnVuY3Rpb24qIHVwbG9hZEZpbGVzU3RlcChpbnB1dElkLCBvdXRwdXRJZCkgewogIGNvbnN0IGlucHV0RWxlbWVudCA9IGRvY3VtZW50LmdldEVsZW1lbnRCeUlkKGlucHV0SWQpOwogIGlucHV0RWxlbWVudC5kaXNhYmxlZCA9IGZhbHNlOwoKICBjb25zdCBvdXRwdXRFbGVtZW50ID0gZG9jdW1lbnQuZ2V0RWxlbWVudEJ5SWQob3V0cHV0SWQpOwogIG91dHB1dEVsZW1lbnQuaW5uZXJIVE1MID0gJyc7CgogIGNvbnN0IHBpY2tlZFByb21pc2UgPSBuZXcgUHJvbWlzZSgocmVzb2x2ZSkgPT4gewogICAgaW5wdXRFbGVtZW50LmFkZEV2ZW50TGlzdGVuZXIoJ2NoYW5nZScsIChlKSA9PiB7CiAgICAgIHJlc29sdmUoZS50YXJnZXQuZmlsZXMpOwogICAgfSk7CiAgfSk7CgogIGNvbnN0IGNhbmNlbCA9IGRvY3VtZW50LmNyZWF0ZUVsZW1lbnQoJ2J1dHRvbicpOwogIGlucHV0RWxlbWVudC5wYXJlbnRFbGVtZW50LmFwcGVuZENoaWxkKGNhbmNlbCk7CiAgY2FuY2VsLnRleHRDb250ZW50ID0gJ0NhbmNlbCB1cGxvYWQnOwogIGNvbnN0IGNhbmNlbFByb21pc2UgPSBuZXcgUHJvbWlzZSgocmVzb2x2ZSkgPT4gewogICAgY2FuY2VsLm9uY2xpY2sgPSAoKSA9PiB7CiAgICAgIHJlc29sdmUobnVsbCk7CiAgICB9OwogIH0pOwoKICAvLyBXYWl0IGZvciB0aGUgdXNlciB0byBwaWNrIHRoZSBmaWxlcy4KICBjb25zdCBmaWxlcyA9IHlpZWxkIHsKICAgIHByb21pc2U6IFByb21pc2UucmFjZShbcGlja2VkUHJvbWlzZSwgY2FuY2VsUHJvbWlzZV0pLAogICAgcmVzcG9uc2U6IHsKICAgICAgYWN0aW9uOiAnc3RhcnRpbmcnLAogICAgfQogIH07CgogIGNhbmNlbC5yZW1vdmUoKTsKCiAgLy8gRGlzYWJsZSB0aGUgaW5wdXQgZWxlbWVudCBzaW5jZSBmdXJ0aGVyIHBpY2tzIGFyZSBub3QgYWxsb3dlZC4KICBpbnB1dEVsZW1lbnQuZGlzYWJsZWQgPSB0cnVlOwoKICBpZiAoIWZpbGVzKSB7CiAgICByZXR1cm4gewogICAgICByZXNwb25zZTogewogICAgICAgIGFjdGlvbjogJ2NvbXBsZXRlJywKICAgICAgfQogICAgfTsKICB9CgogIGZvciAoY29uc3QgZmlsZSBvZiBmaWxlcykgewogICAgY29uc3QgbGkgPSBkb2N1bWVudC5jcmVhdGVFbGVtZW50KCdsaScpOwogICAgbGkuYXBwZW5kKHNwYW4oZmlsZS5uYW1lLCB7Zm9udFdlaWdodDogJ2JvbGQnfSkpOwogICAgbGkuYXBwZW5kKHNwYW4oCiAgICAgICAgYCgke2ZpbGUudHlwZSB8fCAnbi9hJ30pIC0gJHtmaWxlLnNpemV9IGJ5dGVzLCBgICsKICAgICAgICBgbGFzdCBtb2RpZmllZDogJHsKICAgICAgICAgICAgZmlsZS5sYXN0TW9kaWZpZWREYXRlID8gZmlsZS5sYXN0TW9kaWZpZWREYXRlLnRvTG9jYWxlRGF0ZVN0cmluZygpIDoKICAgICAgICAgICAgICAgICAgICAgICAgICAgICAgICAgICAgJ24vYSd9IC0gYCkpOwogICAgY29uc3QgcGVyY2VudCA9IHNwYW4oJzAlIGRvbmUnKTsKICAgIGxpLmFwcGVuZENoaWxkKHBlcmNlbnQpOwoKICAgIG91dHB1dEVsZW1lbnQuYXBwZW5kQ2hpbGQobGkpOwoKICAgIGNvbnN0IGZpbGVEYXRhUHJvbWlzZSA9IG5ldyBQcm9taXNlKChyZXNvbHZlKSA9PiB7CiAgICAgIGNvbnN0IHJlYWRlciA9IG5ldyBGaWxlUmVhZGVyKCk7CiAgICAgIHJlYWRlci5vbmxvYWQgPSAoZSkgPT4gewogICAgICAgIHJlc29sdmUoZS50YXJnZXQucmVzdWx0KTsKICAgICAgfTsKICAgICAgcmVhZGVyLnJlYWRBc0FycmF5QnVmZmVyKGZpbGUpOwogICAgfSk7CiAgICAvLyBXYWl0IGZvciB0aGUgZGF0YSB0byBiZSByZWFkeS4KICAgIGxldCBmaWxlRGF0YSA9IHlpZWxkIHsKICAgICAgcHJvbWlzZTogZmlsZURhdGFQcm9taXNlLAogICAgICByZXNwb25zZTogewogICAgICAgIGFjdGlvbjogJ2NvbnRpbnVlJywKICAgICAgfQogICAgfTsKCiAgICAvLyBVc2UgYSBjaHVua2VkIHNlbmRpbmcgdG8gYXZvaWQgbWVzc2FnZSBzaXplIGxpbWl0cy4gU2VlIGIvNjIxMTU2NjAuCiAgICBsZXQgcG9zaXRpb24gPSAwOwogICAgZG8gewogICAgICBjb25zdCBsZW5ndGggPSBNYXRoLm1pbihmaWxlRGF0YS5ieXRlTGVuZ3RoIC0gcG9zaXRpb24sIE1BWF9QQVlMT0FEX1NJWkUpOwogICAgICBjb25zdCBjaHVuayA9IG5ldyBVaW50OEFycmF5KGZpbGVEYXRhLCBwb3NpdGlvbiwgbGVuZ3RoKTsKICAgICAgcG9zaXRpb24gKz0gbGVuZ3RoOwoKICAgICAgY29uc3QgYmFzZTY0ID0gYnRvYShTdHJpbmcuZnJvbUNoYXJDb2RlLmFwcGx5KG51bGwsIGNodW5rKSk7CiAgICAgIHlpZWxkIHsKICAgICAgICByZXNwb25zZTogewogICAgICAgICAgYWN0aW9uOiAnYXBwZW5kJywKICAgICAgICAgIGZpbGU6IGZpbGUubmFtZSwKICAgICAgICAgIGRhdGE6IGJhc2U2NCwKICAgICAgICB9LAogICAgICB9OwoKICAgICAgbGV0IHBlcmNlbnREb25lID0gZmlsZURhdGEuYnl0ZUxlbmd0aCA9PT0gMCA/CiAgICAgICAgICAxMDAgOgogICAgICAgICAgTWF0aC5yb3VuZCgocG9zaXRpb24gLyBmaWxlRGF0YS5ieXRlTGVuZ3RoKSAqIDEwMCk7CiAgICAgIHBlcmNlbnQudGV4dENvbnRlbnQgPSBgJHtwZXJjZW50RG9uZX0lIGRvbmVgOwoKICAgIH0gd2hpbGUgKHBvc2l0aW9uIDwgZmlsZURhdGEuYnl0ZUxlbmd0aCk7CiAgfQoKICAvLyBBbGwgZG9uZS4KICB5aWVsZCB7CiAgICByZXNwb25zZTogewogICAgICBhY3Rpb246ICdjb21wbGV0ZScsCiAgICB9CiAgfTsKfQoKc2NvcGUuZ29vZ2xlID0gc2NvcGUuZ29vZ2xlIHx8IHt9OwpzY29wZS5nb29nbGUuY29sYWIgPSBzY29wZS5nb29nbGUuY29sYWIgfHwge307CnNjb3BlLmdvb2dsZS5jb2xhYi5fZmlsZXMgPSB7CiAgX3VwbG9hZEZpbGVzLAogIF91cGxvYWRGaWxlc0NvbnRpbnVlLAp9Owp9KShzZWxmKTsK",
              "ok": true,
              "headers": [
                [
                  "content-type",
                  "application/javascript"
                ]
              ],
              "status": 200,
              "status_text": ""
            }
          },
          "base_uri": "https://localhost:8080/",
          "height": 73
        },
        "id": "3aNO5GXJBMtj",
        "outputId": "00163e88-3d1c-4e8f-dfc8-aec864dbb4e3"
      },
      "execution_count": 151,
      "outputs": [
        {
          "output_type": "display_data",
          "data": {
            "text/plain": [
              "<IPython.core.display.HTML object>"
            ],
            "text/html": [
              "\n",
              "     <input type=\"file\" id=\"files-7158ff3f-ec7e-4159-bca8-4f09122e971c\" name=\"files[]\" multiple disabled\n",
              "        style=\"border:none\" />\n",
              "     <output id=\"result-7158ff3f-ec7e-4159-bca8-4f09122e971c\">\n",
              "      Upload widget is only available when the cell has been executed in the\n",
              "      current browser session. Please rerun this cell to enable.\n",
              "      </output>\n",
              "      <script src=\"/nbextensions/google.colab/files.js\"></script> "
            ]
          },
          "metadata": {}
        },
        {
          "output_type": "stream",
          "name": "stdout",
          "text": [
            "Saving letters.data to letters (5).data\n"
          ]
        }
      ]
    },
    {
      "cell_type": "code",
      "source": [
        "hopfield1 = Hopfield()\n",
        "hopfield1.show(X1,5,7,1)"
      ],
      "metadata": {
        "colab": {
          "base_uri": "https://localhost:8080/",
          "height": 403
        },
        "id": "fpAZ7fmsBob-",
        "outputId": "b27d9517-94e7-4642-e269-ac0c087c3a33"
      },
      "execution_count": 152,
      "outputs": [
        {
          "output_type": "display_data",
          "data": {
            "text/plain": [
              "<Figure size 720x720 with 2 Axes>"
            ],
            "image/png": "[encoded data removed]"
          },
          "metadata": {
            "needs_background": "light"
          }
        }
      ]
    },
    {
      "cell_type": "code",
      "source": [
        "def damage(X,percent,seed=33):\n",
        "  rgen= np.random.RandomState(seed)\n",
        "  result = np.array(X)\n",
        "  count= int(X.shape[1]*percent/100)\n",
        "\n",
        "  for indeks_example in range(len(X)):\n",
        "    order = np.sort(rgen.choice(X.shape[1],count,replace=False))\n",
        "    for indeks_pixel in order:\n",
        "      result[indeks_example][indeks_pixel]*=-1\n",
        "  return result"
      ],
      "metadata": {
        "id": "V3s-n3bsOmPU"
      },
      "execution_count": 153,
      "outputs": []
    },
    {
      "cell_type": "code",
      "source": [
        "damage20=damage(X1,20)"
      ],
      "metadata": {
        "id": "E6gcJ_oOO3fh"
      },
      "execution_count": 154,
      "outputs": []
    },
    {
      "cell_type": "code",
      "source": [
        "hopfield1.show(damage20,5,7,1)"
      ],
      "metadata": {
        "colab": {
          "base_uri": "https://localhost:8080/",
          "height": 403
        },
        "id": "Iyb5HGBlO8fB",
        "outputId": "4ac0cedf-e4d3-4f62-ea8f-c54b918c70ed"
      },
      "execution_count": 155,
      "outputs": [
        {
          "output_type": "display_data",
          "data": {
            "text/plain": [
              "<Figure size 720x720 with 2 Axes>"
            ],
            "image/png": "[encoded data removed]"
          },
          "metadata": {
            "needs_background": "light"
          }
        }
      ]
    },
    {
      "cell_type": "code",
      "source": [
        "hopfield1.fit(damage20)"
      ],
      "metadata": {
        "id": "wMv4BE1YI5Gz"
      },
      "execution_count": 156,
      "outputs": []
    },
    {
      "cell_type": "code",
      "source": [
        "Xi1 = np.array([-1,1,0,0,-1,1,-1,-1,-1,0,1,0,1,-1,-1,0,0,1,-1,0,1,1,1,0,1,-1,-1,1,0,0,1,1,-1,0,-1])\n"
      ],
      "metadata": {
        "id": "FIZoLGUiI9i0"
      },
      "execution_count": 157,
      "outputs": []
    },
    {
      "cell_type": "code",
      "source": [
        "states1 = hopfield1.predict_syn(Xi1)"
      ],
      "metadata": {
        "id": "Rxukf_4G45ev"
      },
      "execution_count": 158,
      "outputs": []
    },
    {
      "cell_type": "code",
      "source": [
        "hopfield1.show(np.array(states1),5,7,1)"
      ],
      "metadata": {
        "colab": {
          "base_uri": "https://localhost:8080/",
          "height": 218
        },
        "id": "yE60YbvNJXSt",
        "outputId": "59d5344e-5f0a-43b0-ba9c-02b7fe2729d6"
      },
      "execution_count": 159,
      "outputs": [
        {
          "output_type": "display_data",
          "data": {
            "text/plain": [
              "<Figure size 720x720 with 4 Axes>"
            ],
            "image/png": "[encoded data removed]"
          },
          "metadata": {
            "needs_background": "light"
          }
        }
      ]
    },
    {
      "cell_type": "code",
      "source": [
        "order = range(35)"
      ],
      "metadata": {
        "id": "G36W6Y-X8lJW"
      },
      "execution_count": 160,
      "outputs": []
    },
    {
      "cell_type": "code",
      "source": [
        "states1= hopfield1.predict_async1(Xi1,order,36)"
      ],
      "metadata": {
        "id": "yVDaCzvi8KWV"
      },
      "execution_count": 161,
      "outputs": []
    },
    {
      "cell_type": "code",
      "source": [
        "hopfield1.show(np.array(states1)[1:],5,7,5)"
      ],
      "metadata": {
        "colab": {
          "base_uri": "https://localhost:8080/",
          "height": 545
        },
        "id": "XYDQ8fqA8srQ",
        "outputId": "6e1f0a12-50c5-4159-d5f6-d683cc916973"
      },
      "execution_count": 162,
      "outputs": [
        {
          "output_type": "display_data",
          "data": {
            "text/plain": [
              "<Figure size 720x720 with 70 Axes>"
            ],
            "image/png": "[encoded data removed]"
          },
          "metadata": {
            "needs_background": "light"
          }
        }
      ]
    },
    {
      "cell_type": "code",
      "source": [
        "random.seed(33)"
      ],
      "metadata": {
        "id": "eO-uQ9Fg-lhy"
      },
      "execution_count": 163,
      "outputs": []
    },
    {
      "cell_type": "code",
      "source": [
        "states1= hopfield1.predict_async2(Xi1, 36)"
      ],
      "metadata": {
        "colab": {
          "base_uri": "https://localhost:8080/"
        },
        "id": "lkTE01Pe-uvW",
        "outputId": "24a66038-751a-4673-ff92-ede5cc731d05"
      },
      "execution_count": 164,
      "outputs": [
        {
          "output_type": "stream",
          "name": "stdout",
          "text": [
            "35\n",
            "[11, 15, 18, 31, 35, 34, 12, 33, 21, 29, 19, 5, 20, 27, 32, 4, 28, 16, 8, 14, 24, 1, 23, 26, 25, 3, 10, 6, 13, 30, 17, 2, 7, 22, 9]\n",
            "[30, 3, 2, 14, 15, 8, 22, 24, 6, 32, 20, 1, 19, 21, 34, 9, 7, 25, 29, 18, 13, 17, 12, 27, 31, 35, 16, 10, 11, 26, 23, 5, 28, 33, 4]\n",
            "[27, 34, 21, 7, 28, 33, 23, 17, 16, 4, 1, 35, 31, 6, 29, 20, 22, 12, 25, 10, 9, 30, 24, 19, 11, 5, 32, 13, 8, 18, 2, 26, 14, 3, 15]\n",
            "[35, 26, 30, 32, 5, 24, 17, 25, 22, 34, 33, 1, 13, 23, 10, 18, 16, 7, 8, 27, 9, 4, 2, 28, 15, 11, 20, 12, 31, 29, 6, 21, 14, 19, 3]\n",
            "[30, 10, 4, 1, 12, 9, 34, 26, 11, 5, 19, 33, 29, 27, 24, 32, 13, 28, 25, 35, 22, 2, 6, 7, 17, 18, 23, 8, 21, 20, 3, 16, 15, 31, 14]\n",
            "[16, 6, 3, 32, 2, 11, 26, 15, 13, 1, 30, 10, 28, 19, 9, 14, 12, 20, 21, 18, 22, 29, 8, 25, 27, 7, 23, 35, 4, 34, 17, 31, 24, 33, 5]\n",
            "[8, 26, 32, 11, 2, 22, 16, 1, 35, 24, 23, 9, 19, 17, 10, 28, 29, 33, 12, 14, 34, 27, 15, 18, 13, 30, 5, 6, 31, 20, 4, 21, 3, 7, 25]\n",
            "[13, 4, 19, 20, 18, 5, 10, 14, 30, 34, 8, 1, 15, 24, 25, 28, 33, 3, 32, 17, 2, 16, 23, 29, 7, 31, 6, 35, 11, 22, 21, 9, 26, 27, 12]\n",
            "[18, 27, 28, 21, 26, 6, 19, 30, 22, 25, 31, 13, 33, 2, 15, 4, 23, 32, 7, 9, 3, 20, 11, 29, 34, 17, 1, 10, 14, 16, 8, 24, 5, 35, 12]\n",
            "[18, 8, 16, 32, 22, 28, 17, 5, 21, 31, 35, 23, 1, 20, 7, 6, 29, 2, 19, 3, 9, 34, 25, 15, 24, 33, 14, 26, 13, 4, 30, 11, 10, 12, 27]\n",
            "[2, 10, 1, 17, 23, 16, 13, 28, 31, 14, 32, 34, 3, 8, 24, 30, 12, 9, 18, 25, 22, 21, 35, 4, 19, 5, 27, 33, 7, 26, 29, 11, 6, 15, 20]\n",
            "[12, 30, 8, 24, 34, 35, 5, 29, 2, 15, 17, 28, 16, 4, 11, 26, 33, 27, 22, 18, 7, 6, 20, 10, 23, 3, 19, 14, 31, 1, 21, 32, 13, 9, 25]\n",
            "[5, 16, 31, 20, 1, 7, 28, 30, 4, 25, 22, 15, 14, 29, 26, 18, 24, 2, 23, 11, 19, 32, 10, 27, 12, 8, 17, 35, 34, 21, 3, 9, 33, 6, 13]\n",
            "[15, 20, 35, 16, 30, 11, 1, 10, 22, 14, 7, 17, 29, 27, 24, 21, 13, 3, 2, 26, 25, 8, 19, 5, 12, 23, 4, 34, 9, 33, 32, 31, 18, 6, 28]\n",
            "[14, 12, 15, 34, 4, 32, 10, 33, 26, 18, 17, 21, 7, 27, 16, 6, 31, 22, 11, 25, 30, 2, 24, 9, 19, 5, 35, 23, 3, 28, 1, 20, 8, 29, 13]\n",
            "[26, 21, 32, 25, 17, 7, 27, 35, 14, 13, 23, 6, 24, 16, 9, 30, 28, 15, 1, 4, 12, 10, 8, 31, 19, 5, 2, 34, 18, 3, 20, 11, 29, 22, 33]\n",
            "[25, 32, 22, 28, 14, 1, 18, 19, 7, 10, 26, 3, 2, 11, 27, 9, 15, 6, 23, 16, 35, 34, 8, 21, 31, 33, 29, 24, 13, 5, 12, 30, 17, 4, 20]\n",
            "[9, 14, 16, 26, 30, 33, 27, 2, 13, 15, 23, 34, 7, 21, 17, 3, 35, 6, 18, 10, 11, 5, 20, 29, 4, 32, 24, 12, 8, 19, 1, 25, 28, 31, 22]\n",
            "[16, 20, 13, 12, 29, 25, 30, 27, 4, 34, 2, 18, 17, 26, 5, 3, 23, 9, 28, 24, 19, 14, 1, 31, 15, 7, 32, 8, 11, 6, 21, 22, 33, 10, 35]\n",
            "[6, 11, 14, 12, 30, 15, 35, 33, 13, 5, 20, 2, 32, 16, 23, 10, 26, 31, 21, 34, 29, 8, 4, 22, 7, 25, 28, 27, 19, 24, 3, 9, 1, 18, 17]\n",
            "[26, 33, 21, 2, 15, 35, 20, 31, 13, 3, 23, 32, 28, 19, 25, 16, 29, 22, 7, 11, 1, 24, 8, 4, 14, 10, 18, 6, 9, 27, 5, 30, 12, 34, 17]\n",
            "[20, 9, 2, 18, 29, 1, 25, 32, 21, 26, 7, 4, 16, 24, 19, 34, 8, 14, 22, 27, 30, 5, 17, 6, 31, 11, 10, 28, 23, 12, 15, 13, 33, 3, 35]\n",
            "[4, 22, 29, 34, 1, 35, 9, 24, 12, 23, 11, 7, 6, 27, 5, 32, 31, 17, 3, 33, 20, 16, 30, 25, 8, 21, 14, 15, 10, 19, 26, 2, 13, 28, 18]\n",
            "[18, 11, 19, 34, 17, 5, 7, 21, 32, 31, 3, 2, 25, 24, 6, 14, 30, 1, 26, 20, 12, 27, 22, 4, 15, 29, 9, 10, 33, 16, 13, 28, 8, 35, 23]\n",
            "[25, 22, 26, 30, 19, 2, 10, 12, 7, 9, 11, 6, 8, 31, 33, 18, 13, 32, 3, 28, 29, 15, 1, 5, 34, 14, 27, 16, 4, 23, 24, 35, 17, 21, 20]\n",
            "[1, 28, 22, 15, 8, 11, 27, 32, 6, 16, 33, 14, 9, 35, 26, 5, 34, 25, 21, 17, 4, 23, 3, 7, 19, 29, 10, 18, 31, 2, 12, 24, 20, 13, 30]\n",
            "[27, 21, 31, 6, 18, 26, 17, 33, 22, 7, 15, 3, 24, 25, 9, 30, 20, 14, 19, 28, 13, 8, 11, 34, 12, 32, 10, 4, 35, 23, 2, 29, 1, 16, 5]\n",
            "[21, 34, 31, 25, 23, 1, 12, 10, 7, 16, 26, 29, 22, 33, 24, 35, 27, 28, 15, 6, 18, 32, 17, 11, 4, 8, 20, 13, 30, 9, 14, 5, 3, 19, 2]\n",
            "[1, 21, 5, 15, 35, 18, 31, 32, 26, 33, 24, 19, 11, 28, 13, 30, 34, 4, 20, 7, 27, 29, 25, 3, 8, 2, 16, 10, 17, 23, 22, 12, 6, 9, 14]\n",
            "[9, 7, 25, 1, 27, 21, 12, 16, 19, 15, 13, 32, 2, 3, 28, 6, 29, 23, 26, 18, 4, 24, 35, 20, 10, 34, 8, 5, 14, 31, 33, 30, 17, 22, 11]\n",
            "[4, 31, 16, 6, 2, 7, 17, 19, 32, 13, 8, 18, 10, 1, 25, 15, 34, 27, 28, 21, 30, 26, 5, 29, 23, 11, 33, 35, 12, 22, 14, 3, 24, 20, 9]\n",
            "[25, 3, 14, 4, 24, 9, 11, 18, 10, 30, 15, 1, 12, 33, 13, 27, 21, 8, 29, 22, 28, 17, 6, 34, 23, 26, 7, 20, 5, 31, 35, 32, 2, 16, 19]\n",
            "[33, 12, 13, 15, 8, 7, 24, 4, 11, 2, 10, 34, 25, 18, 19, 26, 17, 6, 1, 14, 29, 35, 31, 30, 3, 5, 21, 16, 20, 22, 9, 32, 28, 23, 27]\n",
            "[34, 12, 29, 35, 20, 25, 13, 26, 31, 14, 8, 1, 2, 19, 18, 27, 4, 17, 7, 10, 32, 15, 16, 24, 6, 28, 5, 21, 22, 30, 9, 3, 11, 33, 23]\n",
            "[14, 25, 15, 3, 30, 7, 16, 2, 18, 26, 24, 22, 8, 6, 20, 9, 32, 11, 27, 5, 17, 12, 23, 35, 13, 19, 4, 29, 33, 31, 21, 1, 10, 28, 34]\n",
            "[32, 2, 10, 14, 6, 35, 12, 13, 5, 3, 27, 24, 21, 1, 16, 22, 33, 34, 18, 29, 8, 31, 28, 7, 20, 11, 4, 25, 23, 26, 17, 30, 9, 15, 19]\n"
          ]
        }
      ]
    },
    {
      "cell_type": "code",
      "source": [
        "hopfield1.show(np.array(states1)[1:],5,7,5)"
      ],
      "metadata": {
        "colab": {
          "base_uri": "https://localhost:8080/",
          "height": 545
        },
        "id": "qzTJmHac_KRh",
        "outputId": "c08a66ec-29ea-4c48-f893-567b2998f8c4"
      },
      "execution_count": 165,
      "outputs": [
        {
          "output_type": "display_data",
          "data": {
            "text/plain": [
              "<Figure size 720x720 with 70 Axes>"
            ],
            "image/png": "[encoded data removed]"
          },
          "metadata": {
            "needs_background": "light"
          }
        }
      ]
    }
  ]
}